{
  "nbformat": 4,
  "nbformat_minor": 0,
  "metadata": {
    "colab": {
      "provenance": [],
      "include_colab_link": true
    },
    "kernelspec": {
      "name": "python3",
      "display_name": "Python 3"
    },
    "language_info": {
      "name": "python"
    }
  },
  "cells": [
    {
      "cell_type": "markdown",
      "metadata": {
        "id": "view-in-github",
        "colab_type": "text"
      },
      "source": [
        "<a href=\"https://colab.research.google.com/github/mananparikh1307/bigdata/blob/main/Map_Reduce_Apriori.ipynb\" target=\"_parent\"><img src=\"https://colab.research.google.com/assets/colab-badge.svg\" alt=\"Open In Colab\"/></a>"
      ]
    },
    {
      "cell_type": "code",
      "execution_count": null,
      "metadata": {
        "colab": {
          "base_uri": "https://localhost:8080/"
        },
        "id": "fSf275yVdMwz",
        "outputId": "b4e9bd5f-98f1-47d2-8479-94679555acad"
      },
      "outputs": [
        {
          "output_type": "stream",
          "name": "stdout",
          "text": [
            "Mounted at /content/gdrive\n"
          ]
        }
      ],
      "source": [
        "from google.colab import drive\n",
        "drive.mount(\"/content/gdrive\")"
      ]
    },
    {
      "cell_type": "code",
      "source": [
        "!pip install --quiet mrjob==0.7.4"
      ],
      "metadata": {
        "colab": {
          "base_uri": "https://localhost:8080/"
        },
        "id": "6Wx4RMKidiig",
        "outputId": "ae30a5f3-3c25-4014-84b3-339707c39343"
      },
      "execution_count": null,
      "outputs": [
        {
          "output_type": "stream",
          "name": "stdout",
          "text": [
            "\u001b[?25l\r\u001b[K     |▊                               | 10 kB 32.6 MB/s eta 0:00:01\r\u001b[K     |█▌                              | 20 kB 7.4 MB/s eta 0:00:01\r\u001b[K     |██▎                             | 30 kB 10.3 MB/s eta 0:00:01\r\u001b[K     |███                             | 40 kB 4.6 MB/s eta 0:00:01\r\u001b[K     |███▊                            | 51 kB 4.3 MB/s eta 0:00:01\r\u001b[K     |████▌                           | 61 kB 5.1 MB/s eta 0:00:01\r\u001b[K     |█████▏                          | 71 kB 5.8 MB/s eta 0:00:01\r\u001b[K     |██████                          | 81 kB 6.5 MB/s eta 0:00:01\r\u001b[K     |██████▊                         | 92 kB 6.6 MB/s eta 0:00:01\r\u001b[K     |███████▌                        | 102 kB 5.3 MB/s eta 0:00:01\r\u001b[K     |████████▏                       | 112 kB 5.3 MB/s eta 0:00:01\r\u001b[K     |█████████                       | 122 kB 5.3 MB/s eta 0:00:01\r\u001b[K     |█████████▊                      | 133 kB 5.3 MB/s eta 0:00:01\r\u001b[K     |██████████▍                     | 143 kB 5.3 MB/s eta 0:00:01\r\u001b[K     |███████████▏                    | 153 kB 5.3 MB/s eta 0:00:01\r\u001b[K     |████████████                    | 163 kB 5.3 MB/s eta 0:00:01\r\u001b[K     |████████████▊                   | 174 kB 5.3 MB/s eta 0:00:01\r\u001b[K     |█████████████▍                  | 184 kB 5.3 MB/s eta 0:00:01\r\u001b[K     |██████████████▏                 | 194 kB 5.3 MB/s eta 0:00:01\r\u001b[K     |███████████████                 | 204 kB 5.3 MB/s eta 0:00:01\r\u001b[K     |███████████████▋                | 215 kB 5.3 MB/s eta 0:00:01\r\u001b[K     |████████████████▍               | 225 kB 5.3 MB/s eta 0:00:01\r\u001b[K     |█████████████████▏              | 235 kB 5.3 MB/s eta 0:00:01\r\u001b[K     |██████████████████              | 245 kB 5.3 MB/s eta 0:00:01\r\u001b[K     |██████████████████▋             | 256 kB 5.3 MB/s eta 0:00:01\r\u001b[K     |███████████████████▍            | 266 kB 5.3 MB/s eta 0:00:01\r\u001b[K     |████████████████████▏           | 276 kB 5.3 MB/s eta 0:00:01\r\u001b[K     |████████████████████▉           | 286 kB 5.3 MB/s eta 0:00:01\r\u001b[K     |█████████████████████▋          | 296 kB 5.3 MB/s eta 0:00:01\r\u001b[K     |██████████████████████▍         | 307 kB 5.3 MB/s eta 0:00:01\r\u001b[K     |███████████████████████         | 317 kB 5.3 MB/s eta 0:00:01\r\u001b[K     |███████████████████████▉        | 327 kB 5.3 MB/s eta 0:00:01\r\u001b[K     |████████████████████████▋       | 337 kB 5.3 MB/s eta 0:00:01\r\u001b[K     |█████████████████████████▍      | 348 kB 5.3 MB/s eta 0:00:01\r\u001b[K     |██████████████████████████      | 358 kB 5.3 MB/s eta 0:00:01\r\u001b[K     |██████████████████████████▉     | 368 kB 5.3 MB/s eta 0:00:01\r\u001b[K     |███████████████████████████▋    | 378 kB 5.3 MB/s eta 0:00:01\r\u001b[K     |████████████████████████████▎   | 389 kB 5.3 MB/s eta 0:00:01\r\u001b[K     |█████████████████████████████   | 399 kB 5.3 MB/s eta 0:00:01\r\u001b[K     |█████████████████████████████▉  | 409 kB 5.3 MB/s eta 0:00:01\r\u001b[K     |██████████████████████████████▋ | 419 kB 5.3 MB/s eta 0:00:01\r\u001b[K     |███████████████████████████████▎| 430 kB 5.3 MB/s eta 0:00:01\r\u001b[K     |████████████████████████████████| 439 kB 5.3 MB/s \n",
            "\u001b[?25h"
          ]
        }
      ]
    },
    {
      "cell_type": "code",
      "source": [
        "import timeit"
      ],
      "metadata": {
        "id": "beepiXCr91sn"
      },
      "execution_count": null,
      "outputs": []
    },
    {
      "cell_type": "code",
      "source": [
        "%%file 1.py\n",
        "from mrjob.job import MRJob\n",
        "import re\n",
        "\n",
        "class Length_1(MRJob):\n",
        "  \n",
        "    def mapper(self, key, value):\n",
        "      data = re.split(',', value)\n",
        "      for i in range(113):\n",
        "        if( data[i] == '1' ):\n",
        "          yield i,1\n",
        "\n",
        "    def reducer(self, key, value):\n",
        "      sum = 0\n",
        "      min_sup = 4000\n",
        "      for i in value:\n",
        "        sum=sum+1\n",
        "      if( sum > min_sup):\n",
        "        yield key,sum\n",
        "\n",
        "if __name__ == '__main__':\n",
        "  Length_1.run()"
      ],
      "metadata": {
        "colab": {
          "base_uri": "https://localhost:8080/"
        },
        "id": "iKsqTfs0dt1M",
        "outputId": "9f942065-82ba-4ae8-cea5-b59c39c050d5"
      },
      "execution_count": null,
      "outputs": [
        {
          "output_type": "stream",
          "name": "stdout",
          "text": [
            "Overwriting 1.py\n"
          ]
        }
      ]
    },
    {
      "cell_type": "code",
      "source": [
        "start = timeit.default_timer()\n",
        "! python 1.py \"/content/gdrive/My Drive/Datasets/Project/Transaction.csv\"\n",
        "stop = timeit.default_timer()"
      ],
      "metadata": {
        "colab": {
          "base_uri": "https://localhost:8080/"
        },
        "id": "p6NOfS1Jfx35",
        "outputId": "12feae42-44ca-4c46-aa92-738a46401770"
      },
      "execution_count": null,
      "outputs": [
        {
          "output_type": "stream",
          "name": "stdout",
          "text": [
            "No configs found; falling back on auto-configuration\n",
            "No configs specified for inline runner\n",
            "Creating temp directory /tmp/1.root.20221217.164928.043447\n",
            "Running step 1 of 1...\n",
            "job output is in /tmp/1.root.20221217.164928.043447/output\n",
            "Streaming final output from /tmp/1.root.20221217.164928.043447/output...\n",
            "53\t5176\n",
            "57\t4936\n",
            "6\t4208\n",
            "61\t4464\n",
            "70\t4384\n",
            "79\t8124\n",
            "80\t7924\n",
            "84\t7488\n",
            "103\t4040\n",
            "2\t6812\n",
            "Removing temp directory /tmp/1.root.20221217.164928.043447...\n"
          ]
        }
      ]
    },
    {
      "cell_type": "code",
      "source": [
        "print('Time: ', stop - start) "
      ],
      "metadata": {
        "colab": {
          "base_uri": "https://localhost:8080/"
        },
        "id": "I4NVNJn1-BET",
        "outputId": "6fbff359-1248-472a-eebb-ea638c05aea6"
      },
      "execution_count": null,
      "outputs": [
        {
          "output_type": "stream",
          "name": "stdout",
          "text": [
            "Time:  2.0215515319999895\n"
          ]
        }
      ]
    },
    {
      "cell_type": "code",
      "source": [
        "import pandas as pd\n",
        "\n",
        "file = \"/content/gdrive/My Drive/Datasets/Project/Length_1.csv\"\n",
        "\n",
        "df = pd.read_csv(file)\n",
        "for i in df:\n",
        "  print(type(i))"
      ],
      "metadata": {
        "colab": {
          "base_uri": "https://localhost:8080/"
        },
        "id": "KJ8SXzxCAi9e",
        "outputId": "5aec4204-4972-46a0-b519-751a7c5e3a7d"
      },
      "execution_count": null,
      "outputs": [
        {
          "output_type": "stream",
          "name": "stdout",
          "text": [
            "3\n"
          ]
        }
      ]
    },
    {
      "cell_type": "code",
      "source": [
        "%%file 2.py\n",
        "from mrjob.job import MRJob\n",
        "import re\n",
        "\n",
        "tempFile = \"/content/gdrive/My Drive/Datasets/Project/Length_1.csv\"\n",
        "\n",
        "class Length_2(MRJob):\n",
        "\n",
        "  def mapper_init(self):\n",
        "      file = open(tempFile, 'r')\n",
        "      lines = file.readlines()\n",
        "      cand = []\n",
        "      for line in lines:\n",
        "        record = line.split(',')\n",
        "        cand.append(record)\n",
        "      self.cand = cand\n",
        "  \n",
        "  def mapper(self, key, value):\n",
        "    data = re.split(',', value)\n",
        "    can = []\n",
        "    can = self.cand\n",
        "    yield can[-1],1\n",
        "    \n",
        "\n",
        "  # def reducer(self, key, value):\n",
        "  #   sum = 0\n",
        "  #   min_sup = 2500\n",
        "  #   for i in value:\n",
        "  #     sum=sum+1\n",
        "  #   if( sum > min_sup):\n",
        "  #     yield key,sum\n",
        "\n",
        "if __name__ == '__main__':\n",
        "  Length_2.run()"
      ],
      "metadata": {
        "colab": {
          "base_uri": "https://localhost:8080/"
        },
        "id": "A8OLKe9dlJbC",
        "outputId": "8e340bb6-cf01-44c8-eab4-b92521720c76"
      },
      "execution_count": null,
      "outputs": [
        {
          "output_type": "stream",
          "name": "stdout",
          "text": [
            "Writing 2.py\n"
          ]
        }
      ]
    },
    {
      "cell_type": "code",
      "source": [
        "! python 2.py \"/content/gdrive/My Drive/Datasets/Project/Length_1.csv\""
      ],
      "metadata": {
        "colab": {
          "base_uri": "https://localhost:8080/"
        },
        "id": "7EShaQkHo6IY",
        "outputId": "8fee780e-28fc-4869-ff33-96a0721cd719"
      },
      "execution_count": null,
      "outputs": [
        {
          "output_type": "stream",
          "name": "stdout",
          "text": [
            "No configs found; falling back on auto-configuration\n",
            "No configs specified for inline runner\n",
            "Creating temp directory /tmp/2.root.20221217.171004.389435\n",
            "Running step 1 of 1...\n",
            "job output is in /tmp/2.root.20221217.171004.389435/output\n",
            "Streaming final output from /tmp/2.root.20221217.171004.389435/output...\n",
            "[\"2\\n\"]\t1\n",
            "[\"2\\n\"]\t1\n",
            "[\"2\\n\"]\t1\n",
            "[\"2\\n\"]\t1\n",
            "[\"2\\n\"]\t1\n",
            "[\"2\\n\"]\t1\n",
            "[\"2\\n\"]\t1\n",
            "[\"2\\n\"]\t1\n",
            "[\"2\\n\"]\t1\n",
            "[\"2\\n\"]\t1\n",
            "[\"2\\n\"]\t1\n",
            "[\"2\\n\"]\t1\n",
            "[\"2\\n\"]\t1\n",
            "[\"2\\n\"]\t1\n",
            "[\"2\\n\"]\t1\n",
            "[\"2\\n\"]\t1\n",
            "[\"2\\n\"]\t1\n",
            "[\"2\\n\"]\t1\n",
            "[\"2\\n\"]\t1\n",
            "[\"2\\n\"]\t1\n",
            "[\"2\\n\"]\t1\n",
            "[\"2\\n\"]\t1\n",
            "[\"2\\n\"]\t1\n",
            "Removing temp directory /tmp/2.root.20221217.171004.389435...\n"
          ]
        }
      ]
    }
  ]
}