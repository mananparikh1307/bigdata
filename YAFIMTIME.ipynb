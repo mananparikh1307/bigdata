{
  "nbformat": 4,
  "nbformat_minor": 0,
  "metadata": {
    "colab": {
      "provenance": [],
      "authorship_tag": "ABX9TyNOkLB5ftmkAJiqCOJL/cK0",
      "include_colab_link": true
    },
    "kernelspec": {
      "name": "python3",
      "display_name": "Python 3"
    },
    "language_info": {
      "name": "python"
    }
  },
  "cells": [
    {
      "cell_type": "markdown",
      "metadata": {
        "id": "view-in-github",
        "colab_type": "text"
      },
      "source": [
        "<a href=\"https://colab.research.google.com/github/mananparikh1307/bigdata/blob/main/YAFIMTIME.ipynb\" target=\"_parent\"><img src=\"https://colab.research.google.com/assets/colab-badge.svg\" alt=\"Open In Colab\"/></a>"
      ]
    },
    {
      "cell_type": "code",
      "execution_count": null,
      "metadata": {
        "id": "feYrKfg-Ytf3"
      },
      "outputs": [],
      "source": [
        "!pip install --quiet pyspark"
      ]
    },
    {
      "cell_type": "code",
      "source": [
        "from google.colab import drive\n",
        "drive.mount(\"/content/gdrive\")"
      ],
      "metadata": {
        "colab": {
          "base_uri": "https://localhost:8080/"
        },
        "id": "ewaq4UOOYvvY",
        "outputId": "4c8a630d-dff6-4469-9f89-6b3ac98d17ae"
      },
      "execution_count": null,
      "outputs": [
        {
          "output_type": "stream",
          "name": "stdout",
          "text": [
            "Drive already mounted at /content/gdrive; to attempt to forcibly remount, call drive.mount(\"/content/gdrive\", force_remount=True).\n"
          ]
        }
      ]
    },
    {
      "cell_type": "code",
      "source": [
        "from pyspark import SparkContext, SparkConf\n",
        "conf = SparkConf().setAppName(\"apriori\").setMaster(\"local\")\n",
        "sc = SparkContext(conf=conf)"
      ],
      "metadata": {
        "colab": {
          "base_uri": "https://localhost:8080/",
          "height": 250
        },
        "id": "L4d-7NvwYx1x",
        "outputId": "50503bd4-730d-4c22-961b-35d4b9212447"
      },
      "execution_count": null,
      "outputs": [
        {
          "output_type": "error",
          "ename": "ValueError",
          "evalue": "ignored",
          "traceback": [
            "\u001b[0;31m---------------------------------------------------------------------------\u001b[0m",
            "\u001b[0;31mValueError\u001b[0m                                Traceback (most recent call last)",
            "\u001b[0;32m<ipython-input-81-767258a9d9dc>\u001b[0m in \u001b[0;36m<module>\u001b[0;34m\u001b[0m\n\u001b[1;32m      1\u001b[0m \u001b[0;32mfrom\u001b[0m \u001b[0mpyspark\u001b[0m \u001b[0;32mimport\u001b[0m \u001b[0mSparkContext\u001b[0m\u001b[0;34m,\u001b[0m \u001b[0mSparkConf\u001b[0m\u001b[0;34m\u001b[0m\u001b[0;34m\u001b[0m\u001b[0m\n\u001b[1;32m      2\u001b[0m \u001b[0mconf\u001b[0m \u001b[0;34m=\u001b[0m \u001b[0mSparkConf\u001b[0m\u001b[0;34m(\u001b[0m\u001b[0;34m)\u001b[0m\u001b[0;34m.\u001b[0m\u001b[0msetAppName\u001b[0m\u001b[0;34m(\u001b[0m\u001b[0;34m\"apriori\"\u001b[0m\u001b[0;34m)\u001b[0m\u001b[0;34m.\u001b[0m\u001b[0msetMaster\u001b[0m\u001b[0;34m(\u001b[0m\u001b[0;34m\"local\"\u001b[0m\u001b[0;34m)\u001b[0m\u001b[0;34m\u001b[0m\u001b[0;34m\u001b[0m\u001b[0m\n\u001b[0;32m----> 3\u001b[0;31m \u001b[0msc\u001b[0m \u001b[0;34m=\u001b[0m \u001b[0mSparkContext\u001b[0m\u001b[0;34m(\u001b[0m\u001b[0mconf\u001b[0m\u001b[0;34m=\u001b[0m\u001b[0mconf\u001b[0m\u001b[0;34m)\u001b[0m\u001b[0;34m\u001b[0m\u001b[0;34m\u001b[0m\u001b[0m\n\u001b[0m",
            "\u001b[0;32m/usr/local/lib/python3.8/dist-packages/pyspark/context.py\u001b[0m in \u001b[0;36m__init__\u001b[0;34m(self, master, appName, sparkHome, pyFiles, environment, batchSize, serializer, conf, gateway, jsc, profiler_cls, udf_profiler_cls)\u001b[0m\n\u001b[1;32m    193\u001b[0m             )\n\u001b[1;32m    194\u001b[0m \u001b[0;34m\u001b[0m\u001b[0m\n\u001b[0;32m--> 195\u001b[0;31m         \u001b[0mSparkContext\u001b[0m\u001b[0;34m.\u001b[0m\u001b[0m_ensure_initialized\u001b[0m\u001b[0;34m(\u001b[0m\u001b[0mself\u001b[0m\u001b[0;34m,\u001b[0m \u001b[0mgateway\u001b[0m\u001b[0;34m=\u001b[0m\u001b[0mgateway\u001b[0m\u001b[0;34m,\u001b[0m \u001b[0mconf\u001b[0m\u001b[0;34m=\u001b[0m\u001b[0mconf\u001b[0m\u001b[0;34m)\u001b[0m\u001b[0;34m\u001b[0m\u001b[0;34m\u001b[0m\u001b[0m\n\u001b[0m\u001b[1;32m    196\u001b[0m         \u001b[0;32mtry\u001b[0m\u001b[0;34m:\u001b[0m\u001b[0;34m\u001b[0m\u001b[0;34m\u001b[0m\u001b[0m\n\u001b[1;32m    197\u001b[0m             self._do_init(\n",
            "\u001b[0;32m/usr/local/lib/python3.8/dist-packages/pyspark/context.py\u001b[0m in \u001b[0;36m_ensure_initialized\u001b[0;34m(cls, instance, gateway, conf)\u001b[0m\n\u001b[1;32m    428\u001b[0m \u001b[0;34m\u001b[0m\u001b[0m\n\u001b[1;32m    429\u001b[0m                     \u001b[0;31m# Raise error if there is already a running Spark context\u001b[0m\u001b[0;34m\u001b[0m\u001b[0;34m\u001b[0m\u001b[0;34m\u001b[0m\u001b[0m\n\u001b[0;32m--> 430\u001b[0;31m                     raise ValueError(\n\u001b[0m\u001b[1;32m    431\u001b[0m                         \u001b[0;34m\"Cannot run multiple SparkContexts at once; \"\u001b[0m\u001b[0;34m\u001b[0m\u001b[0;34m\u001b[0m\u001b[0m\n\u001b[1;32m    432\u001b[0m                         \u001b[0;34m\"existing SparkContext(app=%s, master=%s)\"\u001b[0m\u001b[0;34m\u001b[0m\u001b[0;34m\u001b[0m\u001b[0m\n",
            "\u001b[0;31mValueError\u001b[0m: Cannot run multiple SparkContexts at once; existing SparkContext(app=apriori, master=local) created by __init__ at <ipython-input-3-767258a9d9dc>:3 "
          ]
        }
      ]
    },
    {
      "cell_type": "code",
      "source": [
        "file = \"/content/gdrive/My Drive/DoubleSize.csv\"\n",
        "lineRDD = sc.textFile(file)\n",
        "RDD = lineRDD.map(lambda line : line.split(\",\"))"
      ],
      "metadata": {
        "id": "XsEyUAikYzqt"
      },
      "execution_count": null,
      "outputs": []
    },
    {
      "cell_type": "code",
      "source": [
        "import pandas as pd\n",
        "import timeit\n",
        "tr = pd.read_csv(file)\n",
        "tr.columns"
      ],
      "metadata": {
        "colab": {
          "base_uri": "https://localhost:8080/"
        },
        "id": "BZ9XtR8OY5t3",
        "outputId": "07b25299-f20f-498b-ceb6-dc30959d80b6"
      },
      "execution_count": null,
      "outputs": [
        {
          "output_type": "execute_result",
          "data": {
            "text/plain": [
              "Index(['bruises', 'gill-attachment', 'gill-close-spacing', 'gill-narrow-size',\n",
              "       'enlarge-stalk-shape', 'poisonous', 'edible', 'convex_cap', 'bell_cap',\n",
              "       'sunken_cap',\n",
              "       ...\n",
              "       'several_pop', 'solitary_pop', 'clustered_pop', 'urban', 'grasses',\n",
              "       'meadows', 'woods', 'paths', 'waste', 'leaves'],\n",
              "      dtype='object', length=113)"
            ]
          },
          "metadata": {},
          "execution_count": 102
        }
      ]
    },
    {
      "cell_type": "code",
      "source": [
        "def Count(rdd):\n",
        "  count = 0\n",
        "  for i in rdd:\n",
        "    if( i[0] == '1' ):\n",
        "      count = count + 1\n",
        "\n",
        "  return count"
      ],
      "metadata": {
        "id": "PYmJDU4jY7wb"
      },
      "execution_count": null,
      "outputs": []
    },
    {
      "cell_type": "code",
      "source": [
        "from collections import OrderedDict\n",
        "import numpy as np\n",
        "\n",
        "L_1 = {}\n",
        "min_sup = 8124\n",
        "for i in range(len(tr.columns)):\n",
        "  rdd = RDD.map(lambda line: (line[i],1))\n",
        "  count = Count(rdd.collect())\n",
        "  if( count >= min_sup ):\n",
        "    L_1[tr.columns[i]] = count\n",
        "L_1 = (sorted(L_1.items()))\n",
        "L_1"
      ],
      "metadata": {
        "colab": {
          "base_uri": "https://localhost:8080/"
        },
        "id": "UbKVzMy8Y8Xr",
        "outputId": "3c013b8f-8fc2-411a-dbbf-97959905fb95"
      },
      "execution_count": null,
      "outputs": [
        {
          "output_type": "execute_result",
          "data": {
            "text/plain": [
              "[('edible', 8416),\n",
              " ('gill-close-spacing', 13624),\n",
              " ('one_ring', 14976),\n",
              " ('partial_veil', 16248),\n",
              " ('smooth_above_ring', 10352),\n",
              " ('smooth_below_ring', 9872),\n",
              " ('white_above_ring', 8928),\n",
              " ('white_below_ring', 8768),\n",
              " ('white_veil', 15848)]"
            ]
          },
          "metadata": {},
          "execution_count": 104
        }
      ]
    },
    {
      "cell_type": "code",
      "source": [
        "def Candidate_Set(k,list):\n",
        "  Cand = []\n",
        "  for i in list:\n",
        "    for j in list:\n",
        "      temp = True\n",
        "      if( k > 2 and i[0] != j[0] ):\n",
        "        for l in range(k-2):\n",
        "          if(i[0][l] != j[0][l]):\n",
        "            temp = False\n",
        "            break\n",
        "        if( temp == True ):\n",
        "          l = []\n",
        "          for a in range(k-1):\n",
        "            l.append(i[0][a])\n",
        "          l.append(j[0][k-2])\n",
        "          Cand.append(sorted(l))\n",
        "      else:\n",
        "        l = []\n",
        "        if( i[0] != j[0] ):\n",
        "          l.append(i[0])\n",
        "          l.append(j[0])\n",
        "          Cand.append(sorted(l))\n",
        "  Cand = sorted(Cand)\n",
        "  res = [t for t in (set(tuple(i) for i in Cand))]\n",
        "  res = sorted(res)\n",
        "  return res"
      ],
      "metadata": {
        "id": "Teu4mjp2ZAJQ"
      },
      "execution_count": null,
      "outputs": []
    },
    {
      "cell_type": "code",
      "source": [
        "def Candidate_Pruning(RDD,list,k):\n",
        "  can_pru = {}\n",
        "\n",
        "  for j in list:\n",
        "    can_pru[j] = 0\n",
        "\n",
        "  for i in RDD:\n",
        "    for j in list:\n",
        "      count = 0\n",
        "      for l in range(k):\n",
        "        index = tr.columns.get_loc(j[l])\n",
        "        if( i[index] == '1' ):\n",
        "          count = count + 1\n",
        "      if( count == k ):\n",
        "        can_pru[j] = can_pru[j] + 1\n",
        "\n",
        "  pruned = {}\n",
        "  for i in can_pru.keys():\n",
        "    if( can_pru[i] != 0 and can_pru[i] >= min_sup ):\n",
        "      pruned[i] = can_pru[i]\n",
        "\n",
        "  pruned = sorted(pruned.items())\n",
        "  return pruned"
      ],
      "metadata": {
        "id": "I4n4dzKaZDB1"
      },
      "execution_count": null,
      "outputs": []
    },
    {
      "cell_type": "code",
      "source": [
        "Freq_List = [L_1]\n",
        "k = 2\n",
        "\n",
        "candidate_set = Candidate_Set(k,L_1)\n",
        "candidate_pruned = Candidate_Pruning(RDD.collect(), candidate_set, k)\n",
        "Freq_List.append(candidate_pruned)\n",
        "k = k + 1\n",
        "\n",
        "while(True):\n",
        "  candidate_set = Candidate_Set(k,candidate_pruned)\n",
        "  candidate_pruned = Candidate_Pruning(RDD.collect(),candidate_set, k)\n",
        "  if( len(candidate_pruned) == 0 ):\n",
        "    break\n",
        "  else:\n",
        "    Freq_List.append(candidate_pruned)\n",
        "    k = k + 1"
      ],
      "metadata": {
        "id": "7CkQw85DZFUS"
      },
      "execution_count": null,
      "outputs": []
    },
    {
      "cell_type": "code",
      "source": [
        "print(k)"
      ],
      "metadata": {
        "colab": {
          "base_uri": "https://localhost:8080/"
        },
        "id": "YZDSLyIXZHna",
        "outputId": "3dab1733-ffa8-4793-c553-01bf8af95c44"
      },
      "execution_count": null,
      "outputs": [
        {
          "output_type": "stream",
          "name": "stdout",
          "text": [
            "5\n"
          ]
        }
      ]
    },
    {
      "cell_type": "code",
      "source": [
        "start = timeit.default_timer()\n",
        "Freq_List\n",
        "stop = timeit.default_timer()\n",
        "\n",
        "print('Time: ', stop - start) "
      ],
      "metadata": {
        "colab": {
          "base_uri": "https://localhost:8080/"
        },
        "id": "ekTg0dIuZKoo",
        "outputId": "7b3e1ffa-b516-4156-dd1c-cbab22c2d22b"
      },
      "execution_count": null,
      "outputs": [
        {
          "output_type": "stream",
          "name": "stdout",
          "text": [
            "Time:  0.0001601510011823848\n"
          ]
        }
      ]
    },
    {
      "cell_type": "code",
      "source": [
        "start = timeit.default_timer()\n",
        "can2 = Candidate_Set(2,L_1)\n",
        "res2 = Candidate_Pruning(RDD.collect(), can2, 2)\n",
        "can2\n",
        "stop = timeit.default_timer()\n",
        "\n",
        "print('Time: ', stop - start) "
      ],
      "metadata": {
        "colab": {
          "base_uri": "https://localhost:8080/"
        },
        "id": "L1cGCqAXZNet",
        "outputId": "bf63db60-1def-4b1f-d881-ec12ca83763a"
      },
      "execution_count": null,
      "outputs": [
        {
          "output_type": "stream",
          "name": "stdout",
          "text": [
            "Time:  2.3230930809986603\n"
          ]
        }
      ]
    },
    {
      "cell_type": "code",
      "source": [
        "start = timeit.default_timer()\n",
        "can3 = Candidate_Set(3,res2)\n",
        "res3 = Candidate_Pruning(RDD.collect(), can3, 3)\n",
        "res3\n",
        "stop = timeit.default_timer()\n",
        "\n",
        "print('Time: ', stop - start) "
      ],
      "metadata": {
        "colab": {
          "base_uri": "https://localhost:8080/"
        },
        "id": "NXF-GjzZZPnG",
        "outputId": "88a83420-6055-49d6-dd96-b5c7d979075f"
      },
      "execution_count": null,
      "outputs": [
        {
          "output_type": "stream",
          "name": "stdout",
          "text": [
            "Time:  2.3023290490000363\n"
          ]
        }
      ]
    },
    {
      "cell_type": "code",
      "source": [
        "start = timeit.default_timer()\n",
        "can4 = Candidate_Set(4,res3)\n",
        "res4 = Candidate_Pruning(RDD.collect(), can4, 4)\n",
        "res4\n",
        "stop = timeit.default_timer()\n",
        "\n",
        "print('Time: ', stop - start) "
      ],
      "metadata": {
        "colab": {
          "base_uri": "https://localhost:8080/"
        },
        "id": "DGkohgm4ZRy0",
        "outputId": "c73ade16-70d5-40c2-9ec8-0b4985668dc1"
      },
      "execution_count": null,
      "outputs": [
        {
          "output_type": "stream",
          "name": "stdout",
          "text": [
            "Time:  1.3386787330000516\n"
          ]
        }
      ]
    },
    {
      "cell_type": "code",
      "source": [
        "start = timeit.default_timer()\n",
        "can5 = Candidate_Set(5,res4)\n",
        "res5 = Candidate_Pruning(RDD.collect(), can5, 5)\n",
        "res5\n",
        "stop = timeit.default_timer()\n",
        "\n",
        "print('Time: ', stop - start) "
      ],
      "metadata": {
        "colab": {
          "base_uri": "https://localhost:8080/"
        },
        "id": "IO4P2U6wZSaB",
        "outputId": "1894718b-89eb-405a-c408-1849c9ae44af"
      },
      "execution_count": null,
      "outputs": [
        {
          "output_type": "stream",
          "name": "stdout",
          "text": [
            "Time:  0.4246114130000933\n"
          ]
        }
      ]
    },
    {
      "cell_type": "code",
      "source": [
        "start = timeit.default_timer()\n",
        "can6 = Candidate_Set(6,res5)\n",
        "res6 = Candidate_Pruning(RDD.collect(), can6, 6)\n",
        "res6\n",
        "stop = timeit.default_timer()\n",
        "\n",
        "print('Time: ', stop - start) "
      ],
      "metadata": {
        "colab": {
          "base_uri": "https://localhost:8080/"
        },
        "id": "l3eChO6QZY0U",
        "outputId": "e94c47e3-7ec9-4b47-adac-01ed1f5db7c5"
      },
      "execution_count": null,
      "outputs": [
        {
          "output_type": "stream",
          "name": "stdout",
          "text": [
            "Time:  0.21982010799911222\n"
          ]
        }
      ]
    },
    {
      "cell_type": "code",
      "source": [
        "start = timeit.default_timer()\n",
        "can7 = Candidate_Set(7,res6)\n",
        "res7 = Candidate_Pruning(RDD.collect(), can7, 7)\n",
        "res7\n",
        "stop = timeit.default_timer()\n",
        "\n",
        "print('Time: ', stop - start) "
      ],
      "metadata": {
        "colab": {
          "base_uri": "https://localhost:8080/"
        },
        "id": "P9hWdEXmZcb6",
        "outputId": "2abf9f69-1edb-48dd-c5b5-c7e96995d37f"
      },
      "execution_count": null,
      "outputs": [
        {
          "output_type": "stream",
          "name": "stdout",
          "text": [
            "Time:  0.281091741999262\n"
          ]
        }
      ]
    },
    {
      "cell_type": "code",
      "source": [
        "start = timeit.default_timer()\n",
        "can8 = Candidate_Set(8,res7)\n",
        "res8 = Candidate_Pruning(RDD.collect(), can8, 8)\n",
        "res8\n",
        "stop = timeit.default_timer()\n",
        "\n",
        "print('Time: ', stop - start) "
      ],
      "metadata": {
        "colab": {
          "base_uri": "https://localhost:8080/"
        },
        "id": "KwoGOLpHZfDE",
        "outputId": "eb675047-ba83-479c-c73b-1dc3683899d9"
      },
      "execution_count": null,
      "outputs": [
        {
          "output_type": "stream",
          "name": "stdout",
          "text": [
            "Time:  0.12505043999954069\n"
          ]
        }
      ]
    },
    {
      "cell_type": "code",
      "source": [
        "start = timeit.default_timer()\n",
        "can9 = Candidate_Set(9,res8)\n",
        "res9 = Candidate_Pruning(RDD.collect(), can9, 9)\n",
        "res9\n",
        "stop = timeit.default_timer()\n",
        "\n",
        "print('Time: ', stop - start) "
      ],
      "metadata": {
        "colab": {
          "base_uri": "https://localhost:8080/"
        },
        "id": "cHURwAo4Zg75",
        "outputId": "775c784b-f979-4f82-8f90-72df639986e9"
      },
      "execution_count": null,
      "outputs": [
        {
          "output_type": "stream",
          "name": "stdout",
          "text": [
            "Time:  0.2208671719999984\n"
          ]
        }
      ]
    }
  ]
}